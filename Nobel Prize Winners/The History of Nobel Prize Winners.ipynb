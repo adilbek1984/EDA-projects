{
 "cells": [
  {
   "cell_type": "markdown",
   "id": "db5bd2ce-918a-4f7d-a927-a3ea74c4b456",
   "metadata": {},
   "source": [
    "The Nobel Prize has been among the most prestigious international awards since 1901. Each year, awards are bestowed in chemistry, literature, physics, physiology or medicine, economics, and peace. In addition to the honor, prestige, and substantial prize money, the recipient also gets a gold medal with an image of Alfred Nobel (1833 - 1896), who established the prize.\n",
    "\n",
    "![](Nobel_Prize.png)\n",
    "\n",
    "The Nobel Foundation has made a dataset available of all prize winners from the outset of the awards from 1901 to 2023. The dataset used in this project is from the Nobel Prize API and is available in the `nobel.csv` file in the `data` folder.\n",
    "\n",
    "In this project, you'll get a chance to explore and answer several questions related to this prizewinning data. And we encourage you then to explore further questions that you're interested in!"
   ]
  },
  {
   "cell_type": "code",
   "execution_count": 1,
   "id": "11fd5946-7bd1-495c-aa7f-ff6e7e4a350b",
   "metadata": {
    "executionCancelledAt": null,
    "executionTime": 4307,
    "lastExecutedAt": 1741916679582,
    "lastExecutedByKernel": "6a5959fb-99fb-403c-ba33-93bd3884a738",
    "lastScheduledRunId": null,
    "lastSuccessfullyExecutedCode": "# Loading in required libraries\nimport pandas as pd\nimport seaborn as sns\nimport numpy as np\n\n# Start coding here!"
   },
   "outputs": [],
   "source": [
    "# Loading in required libraries\n",
    "import pandas as pd\n",
    "import seaborn as sns\n",
    "import numpy as np\n",
    "\n",
    "# Start coding here!"
   ]
  },
  {
   "cell_type": "code",
   "execution_count": 3,
   "id": "717b23de-c4f7-4736-8b55-5a536af913ce",
   "metadata": {
    "executionCancelledAt": null,
    "executionTime": 68,
    "lastExecutedAt": 1741916710868,
    "lastExecutedByKernel": "6a5959fb-99fb-403c-ba33-93bd3884a738",
    "lastScheduledRunId": null,
    "lastSuccessfullyExecutedCode": "df = pd.read_csv('data/nobel.csv')\ndf.sample(5)",
    "outputsMetadata": {
     "0": {
      "height": 500,
      "tableState": {
       "quickFilterText": ""
      },
      "type": "dataFrame"
     }
    }
   },
   "outputs": [
    {
     "data": {
      "application/com.datacamp.data-table.v2+json": {
       "table": {
        "data": {
         "birth_city": [
          "Winnipeg",
          "Leningrad (Saint Petersburg)",
          "Burnham-on-Sea",
          "Breslau (Wroclaw)",
          "Zurich"
         ],
         "birth_country": [
          "Canada",
          "Russia",
          "United Kingdom",
          "Prussia (Poland)",
          "Switzerland"
         ],
         "birth_date": [
          "1935-04-25",
          "1908-10-23",
          "1925-10-31",
          "1868-12-09",
          "1905-10-23"
         ],
         "category": [
          "Physics",
          "Physics",
          "Chemistry",
          "Chemistry",
          "Physics"
         ],
         "death_city": [
          null,
          "Moscow",
          "Chicago, IL",
          "Basel",
          "Zurich"
         ],
         "death_country": [
          null,
          "Union of Soviet Socialist Republics (Russia)",
          "United States of America",
          "Switzerland",
          "Switzerland"
         ],
         "death_date": [
          null,
          "1990-06-22",
          "2004-03-15",
          "1934-01-29",
          "1983-09-10"
         ],
         "full_name": [
          "James Peebles",
          "Il´ja Mikhailovich Frank",
          "John A. Pople",
          "Fritz Haber",
          "Felix Bloch"
         ],
         "index": [
          939,
          314,
          688,
          91,
          270
         ],
         "laureate_id": [
          973,
          721,
          291,
          177,
          58
         ],
         "laureate_type": [
          "Individual",
          "Individual",
          "Individual",
          "Individual",
          "Individual"
         ],
         "motivation": [
          "\"for theoretical discoveries in physical cosmology\"",
          "\"for the discovery and the interpretation of the Cherenkov effect\"",
          "\"for his development of computational methods in quantum chemistry\"",
          "\"for the synthesis of ammonia from its elements\"",
          "\"for their development of new methods for nuclear magnetic precision measurements and discoveries in connection therewith\""
         ],
         "organization_city": [
          "Princeton, NJ",
          "Moscow",
          "Evanston, IL",
          "Berlin-Dahlem",
          "Stanford, CA"
         ],
         "organization_country": [
          "United States of America",
          "Union of Soviet Socialist Republics",
          "United States of America",
          "Germany",
          "United States of America"
         ],
         "organization_name": [
          "Princeton University",
          "University of Moscow",
          "Northwestern University",
          "Kaiser-Wilhelm-Institut (now Fritz-Haber-Institut) für physikalische Chemie und Electrochemie",
          "Stanford University"
         ],
         "prize": [
          "The Nobel Prize in Physics 2019",
          "The Nobel Prize in Physics 1958",
          "The Nobel Prize in Chemistry 1998",
          "The Nobel Prize in Chemistry 1918",
          "The Nobel Prize in Physics 1952"
         ],
         "prize_share": [
          "1/2",
          "1/3",
          "1/2",
          "1/1",
          "1/2"
         ],
         "sex": [
          "Male",
          "Male",
          "Male",
          "Male",
          "Male"
         ],
         "year": [
          2019,
          1958,
          1998,
          1918,
          1952
         ]
        },
        "schema": {
         "fields": [
          {
           "name": "index",
           "type": "integer"
          },
          {
           "name": "year",
           "type": "integer"
          },
          {
           "name": "category",
           "type": "string"
          },
          {
           "name": "prize",
           "type": "string"
          },
          {
           "name": "motivation",
           "type": "string"
          },
          {
           "name": "prize_share",
           "type": "string"
          },
          {
           "name": "laureate_id",
           "type": "integer"
          },
          {
           "name": "laureate_type",
           "type": "string"
          },
          {
           "name": "full_name",
           "type": "string"
          },
          {
           "name": "birth_date",
           "type": "string"
          },
          {
           "name": "birth_city",
           "type": "string"
          },
          {
           "name": "birth_country",
           "type": "string"
          },
          {
           "name": "sex",
           "type": "string"
          },
          {
           "name": "organization_name",
           "type": "string"
          },
          {
           "name": "organization_city",
           "type": "string"
          },
          {
           "name": "organization_country",
           "type": "string"
          },
          {
           "name": "death_date",
           "type": "string"
          },
          {
           "name": "death_city",
           "type": "string"
          },
          {
           "name": "death_country",
           "type": "string"
          }
         ],
         "pandas_version": "1.4.0",
         "primaryKey": [
          "index"
         ]
        }
       },
       "total_rows": 5,
       "truncation_type": null
      },
      "text/html": [
       "<div>\n",
       "<style scoped>\n",
       "    .dataframe tbody tr th:only-of-type {\n",
       "        vertical-align: middle;\n",
       "    }\n",
       "\n",
       "    .dataframe tbody tr th {\n",
       "        vertical-align: top;\n",
       "    }\n",
       "\n",
       "    .dataframe thead th {\n",
       "        text-align: right;\n",
       "    }\n",
       "</style>\n",
       "<table border=\"1\" class=\"dataframe\">\n",
       "  <thead>\n",
       "    <tr style=\"text-align: right;\">\n",
       "      <th></th>\n",
       "      <th>year</th>\n",
       "      <th>category</th>\n",
       "      <th>prize</th>\n",
       "      <th>motivation</th>\n",
       "      <th>prize_share</th>\n",
       "      <th>laureate_id</th>\n",
       "      <th>laureate_type</th>\n",
       "      <th>full_name</th>\n",
       "      <th>birth_date</th>\n",
       "      <th>birth_city</th>\n",
       "      <th>birth_country</th>\n",
       "      <th>sex</th>\n",
       "      <th>organization_name</th>\n",
       "      <th>organization_city</th>\n",
       "      <th>organization_country</th>\n",
       "      <th>death_date</th>\n",
       "      <th>death_city</th>\n",
       "      <th>death_country</th>\n",
       "    </tr>\n",
       "  </thead>\n",
       "  <tbody>\n",
       "    <tr>\n",
       "      <th>939</th>\n",
       "      <td>2019</td>\n",
       "      <td>Physics</td>\n",
       "      <td>The Nobel Prize in Physics 2019</td>\n",
       "      <td>\"for theoretical discoveries in physical cosmo...</td>\n",
       "      <td>1/2</td>\n",
       "      <td>973</td>\n",
       "      <td>Individual</td>\n",
       "      <td>James Peebles</td>\n",
       "      <td>1935-04-25</td>\n",
       "      <td>Winnipeg</td>\n",
       "      <td>Canada</td>\n",
       "      <td>Male</td>\n",
       "      <td>Princeton University</td>\n",
       "      <td>Princeton, NJ</td>\n",
       "      <td>United States of America</td>\n",
       "      <td>NaN</td>\n",
       "      <td>NaN</td>\n",
       "      <td>NaN</td>\n",
       "    </tr>\n",
       "    <tr>\n",
       "      <th>314</th>\n",
       "      <td>1958</td>\n",
       "      <td>Physics</td>\n",
       "      <td>The Nobel Prize in Physics 1958</td>\n",
       "      <td>\"for the discovery and the interpretation of t...</td>\n",
       "      <td>1/3</td>\n",
       "      <td>721</td>\n",
       "      <td>Individual</td>\n",
       "      <td>Il´ja Mikhailovich Frank</td>\n",
       "      <td>1908-10-23</td>\n",
       "      <td>Leningrad (Saint Petersburg)</td>\n",
       "      <td>Russia</td>\n",
       "      <td>Male</td>\n",
       "      <td>University of Moscow</td>\n",
       "      <td>Moscow</td>\n",
       "      <td>Union of Soviet Socialist Republics</td>\n",
       "      <td>1990-06-22</td>\n",
       "      <td>Moscow</td>\n",
       "      <td>Union of Soviet Socialist Republics (Russia)</td>\n",
       "    </tr>\n",
       "    <tr>\n",
       "      <th>688</th>\n",
       "      <td>1998</td>\n",
       "      <td>Chemistry</td>\n",
       "      <td>The Nobel Prize in Chemistry 1998</td>\n",
       "      <td>\"for his development of computational methods ...</td>\n",
       "      <td>1/2</td>\n",
       "      <td>291</td>\n",
       "      <td>Individual</td>\n",
       "      <td>John A. Pople</td>\n",
       "      <td>1925-10-31</td>\n",
       "      <td>Burnham-on-Sea</td>\n",
       "      <td>United Kingdom</td>\n",
       "      <td>Male</td>\n",
       "      <td>Northwestern University</td>\n",
       "      <td>Evanston, IL</td>\n",
       "      <td>United States of America</td>\n",
       "      <td>2004-03-15</td>\n",
       "      <td>Chicago, IL</td>\n",
       "      <td>United States of America</td>\n",
       "    </tr>\n",
       "    <tr>\n",
       "      <th>91</th>\n",
       "      <td>1918</td>\n",
       "      <td>Chemistry</td>\n",
       "      <td>The Nobel Prize in Chemistry 1918</td>\n",
       "      <td>\"for the synthesis of ammonia from its elements\"</td>\n",
       "      <td>1/1</td>\n",
       "      <td>177</td>\n",
       "      <td>Individual</td>\n",
       "      <td>Fritz Haber</td>\n",
       "      <td>1868-12-09</td>\n",
       "      <td>Breslau (Wroclaw)</td>\n",
       "      <td>Prussia (Poland)</td>\n",
       "      <td>Male</td>\n",
       "      <td>Kaiser-Wilhelm-Institut (now Fritz-Haber-Insti...</td>\n",
       "      <td>Berlin-Dahlem</td>\n",
       "      <td>Germany</td>\n",
       "      <td>1934-01-29</td>\n",
       "      <td>Basel</td>\n",
       "      <td>Switzerland</td>\n",
       "    </tr>\n",
       "    <tr>\n",
       "      <th>270</th>\n",
       "      <td>1952</td>\n",
       "      <td>Physics</td>\n",
       "      <td>The Nobel Prize in Physics 1952</td>\n",
       "      <td>\"for their development of new methods for nucl...</td>\n",
       "      <td>1/2</td>\n",
       "      <td>58</td>\n",
       "      <td>Individual</td>\n",
       "      <td>Felix Bloch</td>\n",
       "      <td>1905-10-23</td>\n",
       "      <td>Zurich</td>\n",
       "      <td>Switzerland</td>\n",
       "      <td>Male</td>\n",
       "      <td>Stanford University</td>\n",
       "      <td>Stanford, CA</td>\n",
       "      <td>United States of America</td>\n",
       "      <td>1983-09-10</td>\n",
       "      <td>Zurich</td>\n",
       "      <td>Switzerland</td>\n",
       "    </tr>\n",
       "  </tbody>\n",
       "</table>\n",
       "</div>"
      ],
      "text/plain": [
       "     year   category  ...   death_city                                 death_country\n",
       "939  2019    Physics  ...          NaN                                           NaN\n",
       "314  1958    Physics  ...       Moscow  Union of Soviet Socialist Republics (Russia)\n",
       "688  1998  Chemistry  ...  Chicago, IL                      United States of America\n",
       "91   1918  Chemistry  ...        Basel                                   Switzerland\n",
       "270  1952    Physics  ...       Zurich                                   Switzerland\n",
       "\n",
       "[5 rows x 18 columns]"
      ]
     },
     "execution_count": 3,
     "metadata": {
      "application/com.datacamp.data-table.v2+json": {
       "status": "success"
      }
     },
     "output_type": "execute_result"
    }
   ],
   "source": [
    "df = pd.read_csv('data/nobel.csv')\n",
    "df.sample(5)"
   ]
  },
  {
   "cell_type": "markdown",
   "id": "614860be-9e84-4ed2-a83f-60ab131a5a54",
   "metadata": {},
   "source": [
    "Display a list of all column names and iterate throug to see columns of your data frame"
   ]
  },
  {
   "cell_type": "code",
   "execution_count": 4,
   "id": "6fe34d8b-8f99-4232-9ef6-95b8c85d13f8",
   "metadata": {
    "executionCancelledAt": null,
    "executionTime": 49,
    "lastExecutedAt": 1741917401131,
    "lastExecutedByKernel": "6a5959fb-99fb-403c-ba33-93bd3884a738",
    "lastScheduledRunId": null,
    "lastSuccessfullyExecutedCode": "for x in df.columns.tolist():\n    print(x)"
   },
   "outputs": [
    {
     "name": "stdout",
     "output_type": "stream",
     "text": [
      "year\n",
      "category\n",
      "prize\n",
      "motivation\n",
      "prize_share\n",
      "laureate_id\n",
      "laureate_type\n",
      "full_name\n",
      "birth_date\n",
      "birth_city\n",
      "birth_country\n",
      "sex\n",
      "organization_name\n",
      "organization_city\n",
      "organization_country\n",
      "death_date\n",
      "death_city\n",
      "death_country\n"
     ]
    }
   ],
   "source": [
    "for x in df.columns.tolist():\n",
    "    print(x)"
   ]
  },
  {
   "cell_type": "markdown",
   "id": "148433a9-9a62-4dea-8487-e0811d918576",
   "metadata": {},
   "source": [
    "### What is the most commonly awarded gender and birth country"
   ]
  },
  {
   "cell_type": "code",
   "execution_count": 10,
   "id": "d0b6e400-ccfa-40ae-845a-308480d1ca01",
   "metadata": {
    "executionCancelledAt": null,
    "executionTime": 13,
    "lastExecutedAt": 1741917667526,
    "lastExecutedByKernel": "6a5959fb-99fb-403c-ba33-93bd3884a738",
    "lastScheduledRunId": null,
    "lastSuccessfullyExecutedCode": "# Most commonly awarded gender\ntop_gender = df[\"sex\"].value_counts().idxmax()\nprint(top_gender)",
    "outputsMetadata": {
     "0": {
      "height": 38,
      "type": "stream"
     }
    }
   },
   "outputs": [
    {
     "name": "stdout",
     "output_type": "stream",
     "text": [
      "Male\n"
     ]
    }
   ],
   "source": [
    "# Most commonly awarded gender\n",
    "top_gender = df[\"sex\"].value_counts().idxmax()\n",
    "print(top_gender)"
   ]
  },
  {
   "cell_type": "code",
   "execution_count": 11,
   "id": "b26b57f8-5cc3-4100-8264-1dd062a81014",
   "metadata": {
    "executionCancelledAt": null,
    "executionTime": 15,
    "lastExecutedAt": 1741917750610,
    "lastExecutedByKernel": "6a5959fb-99fb-403c-ba33-93bd3884a738",
    "lastScheduledRunId": null,
    "lastSuccessfullyExecutedCode": "# Most commonly awarded birth country\ntop_country=df[\"birth_country\"].value_counts().idxmax()\nprint(top_country)"
   },
   "outputs": [
    {
     "name": "stdout",
     "output_type": "stream",
     "text": [
      "United States of America\n"
     ]
    }
   ],
   "source": [
    "# Most commonly awarded birth country\n",
    "top_country=df[\"birth_country\"].value_counts().idxmax()\n",
    "print(top_country)"
   ]
  },
  {
   "cell_type": "markdown",
   "id": "1e195927-6045-4eaa-af6f-b715864ca2de",
   "metadata": {},
   "source": [
    "### Decade with the highest ratio of US-born Nobel Prize winners to total winners in all categories"
   ]
  },
  {
   "cell_type": "code",
   "execution_count": null,
   "id": "5b8087ba-769b-42ff-98cd-af112eb5670c",
   "metadata": {},
   "outputs": [],
   "source": []
  },
  {
   "cell_type": "code",
   "execution_count": 12,
   "id": "9e6dd6c6-1e0b-4355-9886-49ffc2bb9623",
   "metadata": {
    "executionCancelledAt": null,
    "executionTime": 52,
    "lastExecutedAt": 1741918095423,
    "lastExecutedByKernel": "6a5959fb-99fb-403c-ba33-93bd3884a738",
    "lastScheduledRunId": null,
    "lastSuccessfullyExecutedCode": "# Convert year to decade\ndf[\"decade\"] = (df[\"year\"] // 10) * 10\n\n# Count total winners per decade\ntotal_winners = df.groupby(\"decade\")[\"full_name\"].count()\n\n# Count US-born winners per decade\nus_winners = df[df[\"birth_country\"] == \"United States of America\"].groupby(\"decade\")[\"full_name\"].count()\n\n# Calculate ratio\nratio = (us_winners / total_winners).fillna(0)\n\n# Find the decade with the highest ratio\nmax_decade_usa = int(ratio.idxmax())\n\nprint(\"Decade with highest ratio of US-born Nobel Prize winners:\", max_decade_usa)"
   },
   "outputs": [
    {
     "name": "stdout",
     "output_type": "stream",
     "text": [
      "Decade with highest ratio of US-born Nobel Prize winners: 2000\n"
     ]
    }
   ],
   "source": [
    "# Convert year to decade\n",
    "df[\"decade\"] = (df[\"year\"] // 10) * 10\n",
    "\n",
    "# Count total winners per decade\n",
    "total_winners = df.groupby(\"decade\")[\"full_name\"].count()\n",
    "\n",
    "# Count US-born winners per decade\n",
    "us_winners = df[df[\"birth_country\"] == \"United States of America\"].groupby(\"decade\")[\"full_name\"].count()\n",
    "\n",
    "# Calculate ratio\n",
    "ratio = (us_winners / total_winners).fillna(0)\n",
    "\n",
    "# Find the decade with the highest ratio\n",
    "max_decade_usa = int(ratio.idxmax())\n",
    "\n",
    "print(\"Decade with highest ratio of US-born Nobel Prize winners:\", max_decade_usa)"
   ]
  },
  {
   "cell_type": "markdown",
   "id": "782805cd-a255-42a9-b4be-5ea38bb29a95",
   "metadata": {},
   "source": [
    "### Decade and Nobel Prize category combination with the highest proportion of female laureates"
   ]
  },
  {
   "cell_type": "code",
   "execution_count": 13,
   "id": "80a9afdc-f8fe-4f36-95ea-504839604a6b",
   "metadata": {
    "executionCancelledAt": null,
    "executionTime": 41,
    "lastExecutedAt": 1741918253701,
    "lastExecutedByKernel": "6a5959fb-99fb-403c-ba33-93bd3884a738",
    "lastScheduledRunId": null,
    "lastSuccessfullyExecutedCode": "# Extract only female laureates\ndf_female = df[df[\"sex\"] == \"Female\"]\ndf_female.sample(5)",
    "outputsMetadata": {
     "0": {
      "height": 500,
      "tableState": {
       "quickFilterText": ""
      },
      "type": "dataFrame"
     }
    }
   },
   "outputs": [
    {
     "data": {
      "application/com.datacamp.data-table.v2+json": {
       "table": {
        "data": {
         "birth_city": [
          "Ta'izz",
          "Cedarville, IL",
          "New York, NY",
          "Zanjan",
          "Kalundborg"
         ],
         "birth_country": [
          "Yemen",
          "United States of America",
          "United States of America",
          "Iran",
          "Denmark"
         ],
         "birth_date": [
          "1979-02-07",
          "1860-09-06",
          "1918-01-23",
          "1972-04-21",
          "1882-05-20"
         ],
         "category": [
          "Peace",
          "Peace",
          "Medicine",
          "Peace",
          "Literature"
         ],
         "death_city": [
          null,
          "Chicago, IL",
          "Chapel Hill, NC",
          null,
          "Lillehammer"
         ],
         "death_country": [
          null,
          "United States of America",
          "United States of America",
          null,
          "Norway"
         ],
         "death_date": [
          null,
          "1935-05-21",
          "1999-02-21",
          null,
          "1949-06-10"
         ],
         "decade": [
          2010,
          1930,
          1980,
          2020,
          1920
         ],
         "full_name": [
          "Tawakkol Karman",
          "Jane Addams",
          "Gertrude B. Elion",
          "Narges Mohammadi",
          "Sigrid Undset"
         ],
         "index": [
          849,
          160,
          586,
          998,
          141
         ],
         "laureate_id": [
          871,
          496,
          438,
          1033,
          601
         ],
         "laureate_type": [
          "Individual",
          "Individual",
          "Individual",
          "Individual",
          "Individual"
         ],
         "motivation": [
          "\"for their non-violent struggle for the safety of women and for women&apos;s rights to full participation in peace-building work\"",
          null,
          "\"for their discoveries of important principles for drug treatment\"",
          "\"for her fight against the oppression of women in Iran and her fight to promote human rights and freedom for all\"",
          "\"principally for her powerful descriptions of Northern life during the Middle Ages\""
         ],
         "organization_city": [
          null,
          null,
          "Research Triangle Park, NC",
          null,
          null
         ],
         "organization_country": [
          null,
          null,
          "United States of America",
          null,
          null
         ],
         "organization_name": [
          null,
          null,
          "Wellcome Research Laboratories",
          null,
          null
         ],
         "prize": [
          "The Nobel Peace Prize 2011",
          "The Nobel Peace Prize 1931",
          "The Nobel Prize in Physiology or Medicine 1988",
          "The Nobel Peace Prize 2023",
          "The Nobel Prize in Literature 1928"
         ],
         "prize_share": [
          "1/3",
          "1/2",
          "1/3",
          "1/1",
          "1/1"
         ],
         "sex": [
          "Female",
          "Female",
          "Female",
          "Female",
          "Female"
         ],
         "year": [
          2011,
          1931,
          1988,
          2023,
          1928
         ]
        },
        "schema": {
         "fields": [
          {
           "name": "index",
           "type": "integer"
          },
          {
           "name": "year",
           "type": "integer"
          },
          {
           "name": "category",
           "type": "string"
          },
          {
           "name": "prize",
           "type": "string"
          },
          {
           "name": "motivation",
           "type": "string"
          },
          {
           "name": "prize_share",
           "type": "string"
          },
          {
           "name": "laureate_id",
           "type": "integer"
          },
          {
           "name": "laureate_type",
           "type": "string"
          },
          {
           "name": "full_name",
           "type": "string"
          },
          {
           "name": "birth_date",
           "type": "string"
          },
          {
           "name": "birth_city",
           "type": "string"
          },
          {
           "name": "birth_country",
           "type": "string"
          },
          {
           "name": "sex",
           "type": "string"
          },
          {
           "name": "organization_name",
           "type": "string"
          },
          {
           "name": "organization_city",
           "type": "string"
          },
          {
           "name": "organization_country",
           "type": "string"
          },
          {
           "name": "death_date",
           "type": "string"
          },
          {
           "name": "death_city",
           "type": "string"
          },
          {
           "name": "death_country",
           "type": "string"
          },
          {
           "name": "decade",
           "type": "integer"
          }
         ],
         "pandas_version": "1.4.0",
         "primaryKey": [
          "index"
         ]
        }
       },
       "total_rows": 5,
       "truncation_type": null
      },
      "text/html": [
       "<div>\n",
       "<style scoped>\n",
       "    .dataframe tbody tr th:only-of-type {\n",
       "        vertical-align: middle;\n",
       "    }\n",
       "\n",
       "    .dataframe tbody tr th {\n",
       "        vertical-align: top;\n",
       "    }\n",
       "\n",
       "    .dataframe thead th {\n",
       "        text-align: right;\n",
       "    }\n",
       "</style>\n",
       "<table border=\"1\" class=\"dataframe\">\n",
       "  <thead>\n",
       "    <tr style=\"text-align: right;\">\n",
       "      <th></th>\n",
       "      <th>year</th>\n",
       "      <th>category</th>\n",
       "      <th>prize</th>\n",
       "      <th>motivation</th>\n",
       "      <th>prize_share</th>\n",
       "      <th>laureate_id</th>\n",
       "      <th>laureate_type</th>\n",
       "      <th>full_name</th>\n",
       "      <th>birth_date</th>\n",
       "      <th>birth_city</th>\n",
       "      <th>birth_country</th>\n",
       "      <th>sex</th>\n",
       "      <th>organization_name</th>\n",
       "      <th>organization_city</th>\n",
       "      <th>organization_country</th>\n",
       "      <th>death_date</th>\n",
       "      <th>death_city</th>\n",
       "      <th>death_country</th>\n",
       "      <th>decade</th>\n",
       "    </tr>\n",
       "  </thead>\n",
       "  <tbody>\n",
       "    <tr>\n",
       "      <th>849</th>\n",
       "      <td>2011</td>\n",
       "      <td>Peace</td>\n",
       "      <td>The Nobel Peace Prize 2011</td>\n",
       "      <td>\"for their non-violent struggle for the safety...</td>\n",
       "      <td>1/3</td>\n",
       "      <td>871</td>\n",
       "      <td>Individual</td>\n",
       "      <td>Tawakkol Karman</td>\n",
       "      <td>1979-02-07</td>\n",
       "      <td>Ta'izz</td>\n",
       "      <td>Yemen</td>\n",
       "      <td>Female</td>\n",
       "      <td>NaN</td>\n",
       "      <td>NaN</td>\n",
       "      <td>NaN</td>\n",
       "      <td>NaN</td>\n",
       "      <td>NaN</td>\n",
       "      <td>NaN</td>\n",
       "      <td>2010</td>\n",
       "    </tr>\n",
       "    <tr>\n",
       "      <th>160</th>\n",
       "      <td>1931</td>\n",
       "      <td>Peace</td>\n",
       "      <td>The Nobel Peace Prize 1931</td>\n",
       "      <td>NaN</td>\n",
       "      <td>1/2</td>\n",
       "      <td>496</td>\n",
       "      <td>Individual</td>\n",
       "      <td>Jane Addams</td>\n",
       "      <td>1860-09-06</td>\n",
       "      <td>Cedarville, IL</td>\n",
       "      <td>United States of America</td>\n",
       "      <td>Female</td>\n",
       "      <td>NaN</td>\n",
       "      <td>NaN</td>\n",
       "      <td>NaN</td>\n",
       "      <td>1935-05-21</td>\n",
       "      <td>Chicago, IL</td>\n",
       "      <td>United States of America</td>\n",
       "      <td>1930</td>\n",
       "    </tr>\n",
       "    <tr>\n",
       "      <th>586</th>\n",
       "      <td>1988</td>\n",
       "      <td>Medicine</td>\n",
       "      <td>The Nobel Prize in Physiology or Medicine 1988</td>\n",
       "      <td>\"for their discoveries of important principles...</td>\n",
       "      <td>1/3</td>\n",
       "      <td>438</td>\n",
       "      <td>Individual</td>\n",
       "      <td>Gertrude B. Elion</td>\n",
       "      <td>1918-01-23</td>\n",
       "      <td>New York, NY</td>\n",
       "      <td>United States of America</td>\n",
       "      <td>Female</td>\n",
       "      <td>Wellcome Research Laboratories</td>\n",
       "      <td>Research Triangle Park, NC</td>\n",
       "      <td>United States of America</td>\n",
       "      <td>1999-02-21</td>\n",
       "      <td>Chapel Hill, NC</td>\n",
       "      <td>United States of America</td>\n",
       "      <td>1980</td>\n",
       "    </tr>\n",
       "    <tr>\n",
       "      <th>998</th>\n",
       "      <td>2023</td>\n",
       "      <td>Peace</td>\n",
       "      <td>The Nobel Peace Prize 2023</td>\n",
       "      <td>\"for her fight against the oppression of women...</td>\n",
       "      <td>1/1</td>\n",
       "      <td>1033</td>\n",
       "      <td>Individual</td>\n",
       "      <td>Narges Mohammadi</td>\n",
       "      <td>1972-04-21</td>\n",
       "      <td>Zanjan</td>\n",
       "      <td>Iran</td>\n",
       "      <td>Female</td>\n",
       "      <td>NaN</td>\n",
       "      <td>NaN</td>\n",
       "      <td>NaN</td>\n",
       "      <td>NaN</td>\n",
       "      <td>NaN</td>\n",
       "      <td>NaN</td>\n",
       "      <td>2020</td>\n",
       "    </tr>\n",
       "    <tr>\n",
       "      <th>141</th>\n",
       "      <td>1928</td>\n",
       "      <td>Literature</td>\n",
       "      <td>The Nobel Prize in Literature 1928</td>\n",
       "      <td>\"principally for her powerful descriptions of ...</td>\n",
       "      <td>1/1</td>\n",
       "      <td>601</td>\n",
       "      <td>Individual</td>\n",
       "      <td>Sigrid Undset</td>\n",
       "      <td>1882-05-20</td>\n",
       "      <td>Kalundborg</td>\n",
       "      <td>Denmark</td>\n",
       "      <td>Female</td>\n",
       "      <td>NaN</td>\n",
       "      <td>NaN</td>\n",
       "      <td>NaN</td>\n",
       "      <td>1949-06-10</td>\n",
       "      <td>Lillehammer</td>\n",
       "      <td>Norway</td>\n",
       "      <td>1920</td>\n",
       "    </tr>\n",
       "  </tbody>\n",
       "</table>\n",
       "</div>"
      ],
      "text/plain": [
       "     year    category  ...             death_country decade\n",
       "849  2011       Peace  ...                       NaN   2010\n",
       "160  1931       Peace  ...  United States of America   1930\n",
       "586  1988    Medicine  ...  United States of America   1980\n",
       "998  2023       Peace  ...                       NaN   2020\n",
       "141  1928  Literature  ...                    Norway   1920\n",
       "\n",
       "[5 rows x 19 columns]"
      ]
     },
     "execution_count": 13,
     "metadata": {
      "application/com.datacamp.data-table.v2+json": {
       "status": "success"
      }
     },
     "output_type": "execute_result"
    }
   ],
   "source": [
    "# Extract only female laureates\n",
    "df_female = df[df[\"sex\"] == \"Female\"]\n",
    "df_female.sample(5)"
   ]
  },
  {
   "cell_type": "code",
   "execution_count": 23,
   "id": "6d0c61c3-baff-4e43-9d86-62c18807000c",
   "metadata": {
    "executionCancelledAt": null,
    "executionTime": 50,
    "lastExecutedAt": 1741918580915,
    "lastExecutedByKernel": "6a5959fb-99fb-403c-ba33-93bd3884a738",
    "lastScheduledRunId": null,
    "lastSuccessfullyExecutedCode": "# count female and totatl laureates per decade and category\ncounts = df.groupby([\"decade\", \"category\"]).size().reset_index(name=\"total_count\")\n# counts = df.groupby([\"decade\", \"category\"]).size()\nfemale_counts = df_female.groupby([\"decade\", \"category\"]).size().reset_index(name=\"female_count\")",
    "outputsMetadata": {
     "0": {
      "height": 50,
      "tableState": {
       "customFilter": {
        "const": {
         "type": "boolean",
         "valid": true,
         "value": true
        },
        "id": "820b3071-959f-4d14-b576-aa8a30bca0f0",
        "nodeType": "const"
       },
       "quickFilterText": ""
      },
      "type": "dataFrame"
     }
    }
   },
   "outputs": [],
   "source": [
    "# count female and totatl laureates per decade and category\n",
    "counts = df.groupby([\"decade\", \"category\"]).size().reset_index(name=\"total_count\")\n",
    "# counts = df.groupby([\"decade\", \"category\"]).size()\n",
    "female_counts = df_female.groupby([\"decade\", \"category\"]).size().reset_index(name=\"female_count\")"
   ]
  },
  {
   "cell_type": "code",
   "execution_count": 24,
   "id": "24d95899-e057-477c-bf70-035494ace7be",
   "metadata": {
    "executionCancelledAt": null,
    "executionTime": 23,
    "lastExecutedAt": 1741918583301,
    "lastExecutedByKernel": "6a5959fb-99fb-403c-ba33-93bd3884a738",
    "lastScheduledRunId": null,
    "lastSuccessfullyExecutedCode": "# merge the total and female counts:\nmerged = counts.merge(female_counts, on=[\"decade\", \"category\"], how=\"left\").fillna(0)\nmerged.head()",
    "outputsMetadata": {
     "0": {
      "height": 245,
      "tableState": {
       "quickFilterText": ""
      },
      "type": "dataFrame"
     }
    }
   },
   "outputs": [
    {
     "data": {
      "application/com.datacamp.data-table.v2+json": {
       "table": {
        "data": {
         "category": [
          "Chemistry",
          "Literature",
          "Medicine",
          "Peace",
          "Physics"
         ],
         "decade": [
          1900,
          1900,
          1900,
          1900,
          1900
         ],
         "female_count": [
          0,
          1,
          0,
          1,
          1
         ],
         "index": [
          0,
          1,
          2,
          3,
          4
         ],
         "total_count": [
          9,
          10,
          11,
          14,
          13
         ]
        },
        "schema": {
         "fields": [
          {
           "name": "index",
           "type": "integer"
          },
          {
           "name": "decade",
           "type": "integer"
          },
          {
           "name": "category",
           "type": "string"
          },
          {
           "name": "total_count",
           "type": "integer"
          },
          {
           "name": "female_count",
           "type": "number"
          }
         ],
         "pandas_version": "1.4.0",
         "primaryKey": [
          "index"
         ]
        }
       },
       "total_rows": 5,
       "truncation_type": null
      },
      "text/html": [
       "<div>\n",
       "<style scoped>\n",
       "    .dataframe tbody tr th:only-of-type {\n",
       "        vertical-align: middle;\n",
       "    }\n",
       "\n",
       "    .dataframe tbody tr th {\n",
       "        vertical-align: top;\n",
       "    }\n",
       "\n",
       "    .dataframe thead th {\n",
       "        text-align: right;\n",
       "    }\n",
       "</style>\n",
       "<table border=\"1\" class=\"dataframe\">\n",
       "  <thead>\n",
       "    <tr style=\"text-align: right;\">\n",
       "      <th></th>\n",
       "      <th>decade</th>\n",
       "      <th>category</th>\n",
       "      <th>total_count</th>\n",
       "      <th>female_count</th>\n",
       "    </tr>\n",
       "  </thead>\n",
       "  <tbody>\n",
       "    <tr>\n",
       "      <th>0</th>\n",
       "      <td>1900</td>\n",
       "      <td>Chemistry</td>\n",
       "      <td>9</td>\n",
       "      <td>0.0</td>\n",
       "    </tr>\n",
       "    <tr>\n",
       "      <th>1</th>\n",
       "      <td>1900</td>\n",
       "      <td>Literature</td>\n",
       "      <td>10</td>\n",
       "      <td>1.0</td>\n",
       "    </tr>\n",
       "    <tr>\n",
       "      <th>2</th>\n",
       "      <td>1900</td>\n",
       "      <td>Medicine</td>\n",
       "      <td>11</td>\n",
       "      <td>0.0</td>\n",
       "    </tr>\n",
       "    <tr>\n",
       "      <th>3</th>\n",
       "      <td>1900</td>\n",
       "      <td>Peace</td>\n",
       "      <td>14</td>\n",
       "      <td>1.0</td>\n",
       "    </tr>\n",
       "    <tr>\n",
       "      <th>4</th>\n",
       "      <td>1900</td>\n",
       "      <td>Physics</td>\n",
       "      <td>13</td>\n",
       "      <td>1.0</td>\n",
       "    </tr>\n",
       "  </tbody>\n",
       "</table>\n",
       "</div>"
      ],
      "text/plain": [
       "   decade    category  total_count  female_count\n",
       "0    1900   Chemistry            9           0.0\n",
       "1    1900  Literature           10           1.0\n",
       "2    1900    Medicine           11           0.0\n",
       "3    1900       Peace           14           1.0\n",
       "4    1900     Physics           13           1.0"
      ]
     },
     "execution_count": 24,
     "metadata": {
      "application/com.datacamp.data-table.v2+json": {
       "status": "success"
      }
     },
     "output_type": "execute_result"
    }
   ],
   "source": [
    "# merge the total and female counts:\n",
    "merged = counts.merge(female_counts, on=[\"decade\", \"category\"], how=\"left\").fillna(0)\n",
    "merged.head()"
   ]
  },
  {
   "cell_type": "code",
   "execution_count": 25,
   "id": "374c27a2-99cf-4c55-88bc-0b616a754ee1",
   "metadata": {
    "executionCancelledAt": null,
    "executionTime": 23,
    "lastExecutedAt": 1741918679879,
    "lastExecutedByKernel": "6a5959fb-99fb-403c-ba33-93bd3884a738",
    "lastScheduledRunId": null,
    "lastSuccessfullyExecutedCode": "# calculate the female proportion\nmerged[\"female_ratio\"] = merged[\"female_count\"] / merged[\"total_count\"]\nmerged.sample(5)",
    "outputsMetadata": {
     "0": {
      "height": 500,
      "tableState": {
       "quickFilterText": ""
      },
      "type": "dataFrame"
     }
    }
   },
   "outputs": [
    {
     "data": {
      "application/com.datacamp.data-table.v2+json": {
       "table": {
        "data": {
         "category": [
          "Peace",
          "Physics",
          "Peace",
          "Peace",
          "Peace"
         ],
         "decade": [
          1950,
          1990,
          1960,
          2000,
          1900
         ],
         "female_count": [
          0,
          0,
          0,
          2,
          1
         ],
         "female_ratio": [
          0,
          0,
          0,
          0.1428571429,
          0.0714285714
         ],
         "index": [
          28,
          53,
          34,
          58,
          3
         ],
         "total_count": [
          8,
          22,
          9,
          14,
          14
         ]
        },
        "schema": {
         "fields": [
          {
           "name": "index",
           "type": "integer"
          },
          {
           "name": "decade",
           "type": "integer"
          },
          {
           "name": "category",
           "type": "string"
          },
          {
           "name": "total_count",
           "type": "integer"
          },
          {
           "name": "female_count",
           "type": "number"
          },
          {
           "name": "female_ratio",
           "type": "number"
          }
         ],
         "pandas_version": "1.4.0",
         "primaryKey": [
          "index"
         ]
        }
       },
       "total_rows": 5,
       "truncation_type": null
      },
      "text/html": [
       "<div>\n",
       "<style scoped>\n",
       "    .dataframe tbody tr th:only-of-type {\n",
       "        vertical-align: middle;\n",
       "    }\n",
       "\n",
       "    .dataframe tbody tr th {\n",
       "        vertical-align: top;\n",
       "    }\n",
       "\n",
       "    .dataframe thead th {\n",
       "        text-align: right;\n",
       "    }\n",
       "</style>\n",
       "<table border=\"1\" class=\"dataframe\">\n",
       "  <thead>\n",
       "    <tr style=\"text-align: right;\">\n",
       "      <th></th>\n",
       "      <th>decade</th>\n",
       "      <th>category</th>\n",
       "      <th>total_count</th>\n",
       "      <th>female_count</th>\n",
       "      <th>female_ratio</th>\n",
       "    </tr>\n",
       "  </thead>\n",
       "  <tbody>\n",
       "    <tr>\n",
       "      <th>28</th>\n",
       "      <td>1950</td>\n",
       "      <td>Peace</td>\n",
       "      <td>8</td>\n",
       "      <td>0.0</td>\n",
       "      <td>0.000000</td>\n",
       "    </tr>\n",
       "    <tr>\n",
       "      <th>53</th>\n",
       "      <td>1990</td>\n",
       "      <td>Physics</td>\n",
       "      <td>22</td>\n",
       "      <td>0.0</td>\n",
       "      <td>0.000000</td>\n",
       "    </tr>\n",
       "    <tr>\n",
       "      <th>34</th>\n",
       "      <td>1960</td>\n",
       "      <td>Peace</td>\n",
       "      <td>9</td>\n",
       "      <td>0.0</td>\n",
       "      <td>0.000000</td>\n",
       "    </tr>\n",
       "    <tr>\n",
       "      <th>58</th>\n",
       "      <td>2000</td>\n",
       "      <td>Peace</td>\n",
       "      <td>14</td>\n",
       "      <td>2.0</td>\n",
       "      <td>0.142857</td>\n",
       "    </tr>\n",
       "    <tr>\n",
       "      <th>3</th>\n",
       "      <td>1900</td>\n",
       "      <td>Peace</td>\n",
       "      <td>14</td>\n",
       "      <td>1.0</td>\n",
       "      <td>0.071429</td>\n",
       "    </tr>\n",
       "  </tbody>\n",
       "</table>\n",
       "</div>"
      ],
      "text/plain": [
       "    decade category  total_count  female_count  female_ratio\n",
       "28    1950    Peace            8           0.0      0.000000\n",
       "53    1990  Physics           22           0.0      0.000000\n",
       "34    1960    Peace            9           0.0      0.000000\n",
       "58    2000    Peace           14           2.0      0.142857\n",
       "3     1900    Peace           14           1.0      0.071429"
      ]
     },
     "execution_count": 25,
     "metadata": {
      "application/com.datacamp.data-table.v2+json": {
       "status": "success"
      }
     },
     "output_type": "execute_result"
    }
   ],
   "source": [
    "# calculate the female proportion\n",
    "merged[\"female_ratio\"] = merged[\"female_count\"] / merged[\"total_count\"]\n",
    "merged.sample(5)"
   ]
  },
  {
   "cell_type": "code",
   "execution_count": 27,
   "id": "e0b644b6-4721-49d2-ab93-c50f4b056bfe",
   "metadata": {
    "executionCancelledAt": null,
    "executionTime": 13,
    "lastExecutedAt": 1741918796449,
    "lastExecutedByKernel": "6a5959fb-99fb-403c-ba33-93bd3884a738",
    "lastScheduledRunId": null,
    "lastSuccessfullyExecutedCode": "# find the maximem female ratio\nmax_row = merged.loc[merged[\"female_ratio\"].idxmax()]\nmax_female_dict = {int(max_row[\"decade\"]): max_row[\"category\"]}\nprint(max_female_dict)",
    "outputsMetadata": {
     "0": {
      "height": 38,
      "type": "stream"
     }
    }
   },
   "outputs": [
    {
     "name": "stdout",
     "output_type": "stream",
     "text": [
      "{2020: 'Literature'}\n"
     ]
    }
   ],
   "source": [
    "# find the maximem female ratio\n",
    "max_row = merged.loc[merged[\"female_ratio\"].idxmax()]\n",
    "max_female_dict = {int(max_row[\"decade\"]): max_row[\"category\"]}\n",
    "print(max_female_dict)"
   ]
  },
  {
   "cell_type": "markdown",
   "id": "6e60a133-a4d0-4fe8-8b6b-f9305ebd54ad",
   "metadata": {},
   "source": [
    "### Who was the first woman to receive a Nobel Prize, and what category?"
   ]
  },
  {
   "cell_type": "code",
   "execution_count": 29,
   "id": "87434074-ccbe-402a-9581-88852f0137dc",
   "metadata": {
    "executionCancelledAt": null,
    "executionTime": 48,
    "lastExecutedAt": 1741919167303,
    "lastExecutedByKernel": "6a5959fb-99fb-403c-ba33-93bd3884a738",
    "lastScheduledRunId": null,
    "lastSuccessfullyExecutedCode": "# first year a woman received a Nobel Prize:\nfirst_year = df_female[\"year\"].min()\nprint(first_year)"
   },
   "outputs": [
    {
     "name": "stdout",
     "output_type": "stream",
     "text": [
      "1903\n"
     ]
    }
   ],
   "source": [
    "# first year a woman received a Nobel Prize:\n",
    "first_year = df_female[\"year\"].min()\n",
    "print(first_year)"
   ]
  },
  {
   "cell_type": "code",
   "execution_count": 33,
   "id": "8af7bafe-aae2-42f4-8691-0a10f71c6227",
   "metadata": {
    "executionCancelledAt": null,
    "executionTime": 52,
    "lastExecutedAt": 1741919330203,
    "lastExecutedByKernel": "6a5959fb-99fb-403c-ba33-93bd3884a738",
    "lastScheduledRunId": null,
    "lastSuccessfullyExecutedCode": "# Filter the dataset for this year and extract the name and category:\nfirst_woman = df_female[df_female[\"year\"] == first_year].iloc[0]\nfirst_woman_name = first_woman[\"full_name\"]\nfirst_woman_category = first_woman[\"category\"]\n#print(first_woman)\nprint(first_woman_name)\nprint(first_woman_category)",
    "outputsMetadata": {
     "0": {
      "height": 59,
      "type": "stream"
     }
    }
   },
   "outputs": [
    {
     "name": "stdout",
     "output_type": "stream",
     "text": [
      "Marie Curie, née Sklodowska\n",
      "Physics\n"
     ]
    }
   ],
   "source": [
    "# Filter the dataset for this year and extract the name and category:\n",
    "first_woman = df_female[df_female[\"year\"] == first_year].iloc[0]\n",
    "first_woman_name = first_woman[\"full_name\"]\n",
    "first_woman_category = first_woman[\"category\"]\n",
    "#print(first_woman)\n",
    "print(first_woman_name)\n",
    "print(first_woman_category)"
   ]
  },
  {
   "cell_type": "markdown",
   "id": "5fb4fcb1-e777-42d8-b537-4983ade4c51b",
   "metadata": {},
   "source": [
    "### Which individuals or organizations have won more than one Nobel Prize throughout the years?"
   ]
  },
  {
   "cell_type": "code",
   "execution_count": 34,
   "id": "4c7937b2-4895-40e1-bd7b-c4f2e2bdeb07",
   "metadata": {
    "executionCancelledAt": null,
    "executionTime": 13,
    "lastExecutedAt": 1741919805547,
    "lastExecutedByKernel": "6a5959fb-99fb-403c-ba33-93bd3884a738",
    "lastScheduledRunId": null,
    "lastSuccessfullyExecutedCode": "# Identify repeat winners\nrepeat_winners = df[\"full_name\"].value_counts()\nprint(repeat_winners)"
   },
   "outputs": [
    {
     "name": "stdout",
     "output_type": "stream",
     "text": [
      "Comité international de la Croix Rouge (International Committee of the Red Cross)    3\n",
      "Linus Carl Pauling                                                                   2\n",
      "John Bardeen                                                                         2\n",
      "Frederick Sanger                                                                     2\n",
      "Marie Curie, née Sklodowska                                                          2\n",
      "                                                                                    ..\n",
      "Karl Ziegler                                                                         1\n",
      "Giulio Natta                                                                         1\n",
      "Giorgos Seferis                                                                      1\n",
      "Sir John Carew Eccles                                                                1\n",
      "Claudia Goldin                                                                       1\n",
      "Name: full_name, Length: 993, dtype: int64\n"
     ]
    }
   ],
   "source": [
    "# Identify repeat winners\n",
    "repeat_winners = df[\"full_name\"].value_counts()\n",
    "print(repeat_winners)"
   ]
  },
  {
   "cell_type": "code",
   "execution_count": 35,
   "id": "19068853-85bd-491f-8985-c05db3512c55",
   "metadata": {
    "executionCancelledAt": null,
    "executionTime": 14,
    "lastExecutedAt": 1741919896945,
    "lastExecutedByKernel": "6a5959fb-99fb-403c-ba33-93bd3884a738",
    "lastScheduledRunId": null,
    "lastSuccessfullyExecutedCode": "# Filter for those who whon more than once (count is greate than 1)\nrepeat_list = repeat_winners[repeat_winners > 1].index.tolist()\nprint(repeat_list)"
   },
   "outputs": [
    {
     "name": "stdout",
     "output_type": "stream",
     "text": [
      "['Comité international de la Croix Rouge (International Committee of the Red Cross)', 'Linus Carl Pauling', 'John Bardeen', 'Frederick Sanger', 'Marie Curie, née Sklodowska', 'Office of the United Nations High Commissioner for Refugees (UNHCR)']\n"
     ]
    }
   ],
   "source": [
    "# Filter for those who whon more than once (count is greate than 1)\n",
    "repeat_list = repeat_winners[repeat_winners > 1].index.tolist()\n",
    "print(repeat_list)"
   ]
  }
 ],
 "metadata": {
  "editor": "DataCamp Workspace",
  "kernelspec": {
   "display_name": "Python 3 (ipykernel)",
   "language": "python",
   "name": "python3"
  },
  "language_info": {
   "codemirror_mode": {
    "name": "ipython",
    "version": 3
   },
   "file_extension": ".py",
   "mimetype": "text/x-python",
   "name": "python",
   "nbconvert_exporter": "python",
   "pygments_lexer": "ipython3",
   "version": "3.11.8"
  }
 },
 "nbformat": 4,
 "nbformat_minor": 5
}
